{
  "nbformat": 4,
  "nbformat_minor": 0,
  "metadata": {
    "accelerator": "GPU",
    "colab": {
      "name": "HandwritenRecognition.ipynb",
      "provenance": [],
      "collapsed_sections": [],
      "toc_visible": true
    },
    "kernelspec": {
      "display_name": "Python 3",
      "name": "python3"
    },
    "language_info": {
      "name": "python"
    }
  },
  "cells": [
    {
      "cell_type": "code",
      "metadata": {
        "colab": {
          "base_uri": "https://localhost:8080/"
        },
        "id": "HNptzq3LEAj_",
        "outputId": "5e9b6916-7f6c-42c9-c113-dab44b4eeaa9"
      },
      "source": [
        "from google.colab import drive\n",
        "drive.mount('/content/gdrive')"
      ],
      "execution_count": 1,
      "outputs": [
        {
          "output_type": "stream",
          "text": [
            "Mounted at /content/gdrive\n"
          ],
          "name": "stdout"
        }
      ]
    },
    {
      "cell_type": "markdown",
      "metadata": {
        "id": "ke1cGLvsELw2"
      },
      "source": [
        "# Import Library"
      ]
    },
    {
      "cell_type": "code",
      "metadata": {
        "id": "vXVbihkGEBIM"
      },
      "source": [
        "import os\n",
        "import pandas as pd\n",
        "import numpy as np\n",
        "import matplotlib.pyplot as plt\n",
        "\n",
        "from skimage import io\n",
        "import cv2\n",
        "import tensorflow as tf\n",
        "from tensorflow import keras\n",
        "from tensorflow.keras import layers\n",
        "from pathlib import Path"
      ],
      "execution_count": 2,
      "outputs": []
    },
    {
      "cell_type": "markdown",
      "metadata": {
        "id": "IZi26EPnRCKo"
      },
      "source": [
        "# Data Loading"
      ]
    },
    {
      "cell_type": "code",
      "metadata": {
        "colab": {
          "base_uri": "https://localhost:8080/"
        },
        "id": "vaYhnsvKEVcO",
        "outputId": "0934e07d-d487-4260-8c14-216b28d1e7a3"
      },
      "source": [
        "# importing required modules\n",
        "from zipfile import ZipFile\n",
        "\n",
        "# specifying the zip file name\n",
        "file_name = \"/content/gdrive/MyDrive/Kaggle/handwriting-recognition.zip\"\n",
        "\n",
        "# opening the zip file in READ mode\n",
        "with ZipFile(file_name, 'r') as zip:\n",
        "\t# printing all the contents of the zip file\n",
        "\t#zip.printdir()\n",
        "\n",
        "\t# extracting all the files\n",
        "\tprint('Extracting all the files now...')\n",
        "\tzip.extractall()\n",
        "\tprint('Done!')"
      ],
      "execution_count": 3,
      "outputs": [
        {
          "output_type": "stream",
          "text": [
            "Extracting all the files now...\n",
            "Done!\n"
          ],
          "name": "stdout"
        }
      ]
    },
    {
      "cell_type": "markdown",
      "metadata": {
        "id": "wYLjRpCiRGd9"
      },
      "source": [
        "# Data Preprocessing"
      ]
    },
    {
      "cell_type": "code",
      "metadata": {
        "id": "ymVYLMnuEWcd"
      },
      "source": [
        "train = pd.read_csv('/content/written_name_train_v2.csv')\n",
        "valid = pd.read_csv('/content/written_name_validation_v2.csv')\n",
        "train.sort_values(by='FILENAME',inplace=True)\n",
        "valid.sort_values(by='FILENAME',inplace=True)\n"
      ],
      "execution_count": 4,
      "outputs": []
    },
    {
      "cell_type": "code",
      "metadata": {
        "id": "h_v8rSUwFG9T"
      },
      "source": [
        "data_dir_train = Path('./train_v2/train/')\n",
        "data_dir_valid = Path('./validation_v2/validation/')\n",
        "\n",
        "train['IMAGE'] = sorted(list(map(str,list(data_dir_train.glob('*.jpg')))))\n",
        "valid['IMAGE'] = sorted(list(map(str,list(data_dir_valid.glob('*.jpg')))))"
      ],
      "execution_count": 5,
      "outputs": []
    },
    {
      "cell_type": "code",
      "metadata": {
        "id": "qWqwLS0KE0EH"
      },
      "source": [
        "train.dropna(axis=0,inplace=True)\n",
        "valid.dropna(axis=0,inplace=True)\n",
        "\n",
        "train = train[train['IDENTITY'] != 'UNREADABLE']\n",
        "valid = valid[valid['IDENTITY'] != 'UNREADABLE']\n",
        "\n",
        "train.reset_index(inplace=True,drop=True)\n",
        "valid.reset_index(inplace=True,drop=True)\n",
        "\n",
        "train['IDENTITY'] = train['IDENTITY'].str.upper()\n",
        "valid['IDENTITY'] = valid['IDENTITY'].str.upper()\n",
        "\n",
        "train['Length']=train['IDENTITY'].apply(lambda x : len(str(x)))\n",
        "valid['Length']=valid['IDENTITY'].apply(lambda x : len(str(x)))\n",
        "\n",
        "train = train[train['Length']<=21]\n",
        "valid = valid[valid['Length']<=21]"
      ],
      "execution_count": 6,
      "outputs": []
    },
    {
      "cell_type": "code",
      "metadata": {
        "colab": {
          "base_uri": "https://localhost:8080/"
        },
        "id": "_Dsp8W6AYLjD",
        "outputId": "e6dbe6b9-c24f-424e-9ef2-09103e5d67be"
      },
      "source": [
        "train = train[:50000]\n",
        "valid = valid[:5000]\n",
        "len(train)"
      ],
      "execution_count": 7,
      "outputs": [
        {
          "output_type": "execute_result",
          "data": {
            "text/plain": [
              "50000"
            ]
          },
          "metadata": {
            "tags": []
          },
          "execution_count": 7
        }
      ]
    },
    {
      "cell_type": "code",
      "metadata": {
        "colab": {
          "base_uri": "https://localhost:8080/"
        },
        "id": "9vLr9zFGGH5O",
        "outputId": "3640f4dd-aeae-439c-e8ad-037d008a5603"
      },
      "source": [
        "images_train = train['IMAGE'].values\n",
        "images_valid = valid['IMAGE'].values\n",
        "\n",
        "\n",
        "labels_train = []\n",
        "labels_valid = []\n",
        "for i in train['IDENTITY']:\n",
        "  if len(i)<21:\n",
        "    i+='#'*(21-len(i))\n",
        "  labels_train.append(i)\n",
        "\n",
        "for i in valid['IDENTITY']:\n",
        "  if len(i)<21:\n",
        "    i+='#'*(21-len(i))\n",
        "  labels_valid.append(i)\n",
        "\n",
        "#labels_train = train['IDENTITY']\n",
        "#labels_valid = valid['IDENTITY']\n",
        "\n",
        "characters = set(char for label in labels_train for char in label)\n",
        "\n",
        "print(\"Number of train images found: \", len(images_train))\n",
        "print(\"Number of train labels found: \", len(labels_train))\n",
        "print(\"Number of validation images found: \", len(images_valid))\n",
        "print(\"Number of validation labels found: \", len(labels_valid))\n",
        "print(\"Number of unique characters: \", len(characters))\n",
        "print(\"Characters present: \", characters)\n",
        "\n",
        "img_width = 256\n",
        "img_height = 64\n",
        "batch_size = 128\n",
        "\n",
        "downsample_factor = 4\n",
        "max_length = 22"
      ],
      "execution_count": 8,
      "outputs": [
        {
          "output_type": "stream",
          "text": [
            "Number of train images found:  50000\n",
            "Number of train labels found:  50000\n",
            "Number of validation images found:  5000\n",
            "Number of validation labels found:  5000\n",
            "Number of unique characters:  30\n",
            "Characters present:  {' ', 'T', 'N', 'V', 'B', 'Z', 'E', 'K', 'M', 'Y', 'W', 'I', 'A', '#', 'P', 'G', 'Q', '-', 'C', 'H', 'X', 'S', \"'\", 'D', 'F', 'L', 'O', 'J', 'U', 'R'}\n"
          ],
          "name": "stdout"
        }
      ]
    },
    {
      "cell_type": "code",
      "metadata": {
        "id": "kJV8JvRaGJdx"
      },
      "source": [
        "char_to_num = layers.experimental.preprocessing.StringLookup(vocabulary=sorted(list(characters)),\n",
        "                                                             num_oov_indices=0,\n",
        "                                                             mask_token=None)\n",
        "\n",
        "num_to_char = layers.experimental.preprocessing.StringLookup(vocabulary=char_to_num.get_vocabulary(),\n",
        "                                                             mask_token=None,\n",
        "                                                             invert=True)"
      ],
      "execution_count": 9,
      "outputs": []
    },
    {
      "cell_type": "code",
      "metadata": {
        "id": "JaygQR3qHGQF"
      },
      "source": [
        "def encode_single_sample(img_path, label):\n",
        "    # 1. Read image\n",
        "    img = tf.io.read_file(img_path)\n",
        "    # 2. Decode and convert to grayscale\n",
        "    img = tf.io.decode_png(img, channels=1)\n",
        "    # 3. Convert to float32 in [0, 1] range\n",
        "    img = tf.image.convert_image_dtype(img, tf.float32)\n",
        "    # 4. Resize to the desired size\n",
        "    img = tf.image.resize(img, [img_height, img_width])\n",
        "    # 5. Transpose the image because we want the time\n",
        "    # dimension to correspond to the width of the image.\n",
        "    img = tf.transpose(img, perm=[1, 0, 2])\n",
        "    # 6. Map the characters in label to numbers\n",
        "    label = char_to_num(tf.strings.unicode_split(label, input_encoding=\"UTF-8\"))\n",
        "    #label = char_to_index(label)\n",
        "    # 7. Return a dict as our model is expecting two inputs\n",
        "    return {\"image\": img, \"label\": label}"
      ],
      "execution_count": 10,
      "outputs": []
    },
    {
      "cell_type": "code",
      "metadata": {
        "id": "zr_ofpkOYFGB"
      },
      "source": [
        "train_dataset = tf.data.Dataset.from_tensor_slices((images_train, labels_train))\n",
        "train_dataset = (\n",
        "    train_dataset.map(\n",
        "        encode_single_sample, num_parallel_calls=tf.data.experimental.AUTOTUNE\n",
        "    )\n",
        "    .batch(batch_size)\n",
        "    .prefetch(buffer_size=tf.data.experimental.AUTOTUNE)\n",
        ")\n",
        "\n",
        "validation_dataset = tf.data.Dataset.from_tensor_slices((images_valid, labels_valid))\n",
        "validation_dataset = (\n",
        "    validation_dataset.map(\n",
        "        encode_single_sample, num_parallel_calls=tf.data.experimental.AUTOTUNE\n",
        "    )\n",
        "    .batch(batch_size)\n",
        "    .prefetch(buffer_size=tf.data.experimental.AUTOTUNE)\n",
        ")"
      ],
      "execution_count": 11,
      "outputs": []
    },
    {
      "cell_type": "code",
      "metadata": {
        "colab": {
          "base_uri": "https://localhost:8080/",
          "height": 518
        },
        "id": "Zl-cE6hXYS6H",
        "outputId": "4e390297-70be-4a6f-e471-272658e0b954"
      },
      "source": [
        "_, ax = plt.subplots(4, 4, figsize=(15, 10))\n",
        "for batch in train_dataset.take(1):\n",
        "    images = batch[\"image\"]\n",
        "    labels = batch[\"label\"]\n",
        "    for i in range(16):\n",
        "        img = (images[i] * 255).numpy().astype(\"uint8\")\n",
        "        label = tf.strings.reduce_join(num_to_char(labels[i])).numpy().decode(\"utf-8\")\n",
        "        ax[i // 4, i % 4].imshow(img[:, :, 0].T, cmap=\"gray\")\n",
        "        ax[i // 4, i % 4].set_title(label)\n",
        "        ax[i // 4, i % 4].axis(\"off\")\n",
        "plt.show()"
      ],
      "execution_count": null,
      "outputs": [
        {
          "output_type": "display_data",
          "data": {
            "image/png": "[encoded data removed]",
            "text/plain": [
              "<Figure size 1080x720 with 16 Axes>"
            ]
          },
          "metadata": {
            "tags": []
          }
        }
      ]
    },
    {
      "cell_type": "markdown",
      "metadata": {
        "id": "bsJpsMWn1CeW"
      },
      "source": [
        "# Model"
      ]
    },
    {
      "cell_type": "code",
      "metadata": {
        "id": "OQkHvHNPnNHN"
      },
      "source": [
        "class CTCLayer(layers.Layer):\n",
        "  def __init__(self,name=None):\n",
        "    super().__init__(name=name)\n",
        "    self.loss_fn = keras.backend.ctc_batch_cost\n",
        "\n",
        "  def call(self, y_true, y_pred):\n",
        "    batch_len = tf.cast(tf.shape(y_true)[0] , dtype = 'int64')\n",
        "    input_length = tf.cast(tf.shape(y_pred)[1], dtype='int64')\n",
        "    label_length = tf.cast(tf.shape(y_true)[1], dtype='int64')\n",
        "\n",
        "    input_length = input_length * tf.ones(shape=(batch_len,1), dtype = 'int64')\n",
        "    label_length = label_length * tf.ones(shape=(batch_len,1), dtype='int64')\n",
        "    loss = self.loss_fn(y_true,y_pred,input_length,label_length)\n",
        "    self.add_loss(loss)\n",
        "    return y_pred"
      ],
      "execution_count": null,
      "outputs": []
    },
    {
      "cell_type": "code",
      "metadata": {
        "id": "xnhLsfcRZQDt"
      },
      "source": [
        "def build_model():\n",
        "  #Input\n",
        "  inputs = keras.Input(shape=(img_width,img_height,1), name='image', dtype=tf.float32)\n",
        "  labels = keras.Input(shape=(None,),name='label',dtype=tf.float32)\n",
        "\n",
        "  # First Conv1 Block\n",
        "  x = layers.Conv2D(64,\n",
        "                    (3,3),\n",
        "                    padding='same',\n",
        "                    activation='relu',\n",
        "                    kernel_initializer='he_normal',\n",
        "                    name='Conv1')(inputs)\n",
        "  x = layers.MaxPool2D((2,2),name='pool1')(x)\n",
        "  x = layers.Dropout(0.2)(x)\n",
        "  # Second Conv2 Block\n",
        "  x = layers.Conv2D(128,\n",
        "                    (3,3),\n",
        "                    padding='same',\n",
        "                    kernel_initializer='he_normal',\n",
        "                    activation='relu',\n",
        "                    name='Conv2')(x)\n",
        "  x = layers.MaxPool2D((2,2),name='pool2')(x)\n",
        "  x = layers.Dropout(0.2)(x)\n",
        "\n",
        "  new_shape = ((img_width//4),(img_height//4)*128)\n",
        "  x = layers.Reshape(target_shape=new_shape,name='reshape')(x)\n",
        "  x = layers.Dense(64,activation='relu',name='dense1')(x)\n",
        "  x = layers.Dropout(0.2)(x)\n",
        "\n",
        "  #RNN\n",
        "  x = layers.Bidirectional(layers.LSTM(128,return_sequences=True,dropout=0.25))(x)\n",
        "  x = layers.Bidirectional(layers.LSTM(64,return_sequences=True,dropout=0.25))(x)\n",
        "\n",
        "  x = layers.Dense(len(characters)+1,activation='softmax',name='dense2')(x)\n",
        "\n",
        "  # CTC Layer\n",
        "  outputs = CTCLayer(name='ctc_loss')(labels,x)\n",
        "\n",
        "  # model\n",
        "  model = keras.models.Model(inputs=[inputs,labels], outputs=outputs, name='ocr_model_v1')\n",
        "\n",
        "  # Optimizer\n",
        "  optimizer = keras.optimizers.Adam()\n",
        "\n",
        "  # compile model\n",
        "  model.compile(optimizer=optimizer)\n",
        "\n",
        "  return model"
      ],
      "execution_count": null,
      "outputs": []
    },
    {
      "cell_type": "code",
      "metadata": {
        "colab": {
          "base_uri": "https://localhost:8080/"
        },
        "id": "iOq90xGbdYXT",
        "outputId": "f7dbc15b-de6f-436f-e78a-2daf461dd84d"
      },
      "source": [
        "model = build_model()\n",
        "model.summary()"
      ],
      "execution_count": null,
      "outputs": [
        {
          "output_type": "stream",
          "text": [
            "Model: \"ocr_model_v1\"\n",
            "__________________________________________________________________________________________________\n",
            "Layer (type)                    Output Shape         Param #     Connected to                     \n",
            "==================================================================================================\n",
            "image (InputLayer)              [(None, 256, 64, 1)] 0                                            \n",
            "__________________________________________________________________________________________________\n",
            "Conv1 (Conv2D)                  (None, 256, 64, 64)  640         image[0][0]                      \n",
            "__________________________________________________________________________________________________\n",
            "pool1 (MaxPooling2D)            (None, 128, 32, 64)  0           Conv1[0][0]                      \n",
            "__________________________________________________________________________________________________\n",
            "dropout (Dropout)               (None, 128, 32, 64)  0           pool1[0][0]                      \n",
            "__________________________________________________________________________________________________\n",
            "Conv2 (Conv2D)                  (None, 128, 32, 128) 73856       dropout[0][0]                    \n",
            "__________________________________________________________________________________________________\n",
            "pool2 (MaxPooling2D)            (None, 64, 16, 128)  0           Conv2[0][0]                      \n",
            "__________________________________________________________________________________________________\n",
            "dropout_1 (Dropout)             (None, 64, 16, 128)  0           pool2[0][0]                      \n",
            "__________________________________________________________________________________________________\n",
            "reshape (Reshape)               (None, 64, 2048)     0           dropout_1[0][0]                  \n",
            "__________________________________________________________________________________________________\n",
            "dense1 (Dense)                  (None, 64, 64)       131136      reshape[0][0]                    \n",
            "__________________________________________________________________________________________________\n",
            "dropout_2 (Dropout)             (None, 64, 64)       0           dense1[0][0]                     \n",
            "__________________________________________________________________________________________________\n",
            "bidirectional (Bidirectional)   (None, 64, 256)      197632      dropout_2[0][0]                  \n",
            "__________________________________________________________________________________________________\n",
            "bidirectional_1 (Bidirectional) (None, 64, 128)      164352      bidirectional[0][0]              \n",
            "__________________________________________________________________________________________________\n",
            "label (InputLayer)              [(None, None)]       0                                            \n",
            "__________________________________________________________________________________________________\n",
            "dense2 (Dense)                  (None, 64, 31)       3999        bidirectional_1[0][0]            \n",
            "__________________________________________________________________________________________________\n",
            "ctc_loss (CTCLayer)             (None, 64, 31)       0           label[0][0]                      \n",
            "                                                                 dense2[0][0]                     \n",
            "==================================================================================================\n",
            "Total params: 571,615\n",
            "Trainable params: 571,615\n",
            "Non-trainable params: 0\n",
            "__________________________________________________________________________________________________\n"
          ],
          "name": "stdout"
        }
      ]
    },
    {
      "cell_type": "code",
      "metadata": {
        "colab": {
          "base_uri": "https://localhost:8080/"
        },
        "id": "fRrZb23El1Pv",
        "outputId": "5f186d3c-36c9-4aee-fbea-90f8fe2ea493"
      },
      "source": [
        "epochs = 100\n",
        "early_stopping_patience = 10\n",
        "# Add early stopping\n",
        "early_stopping = keras.callbacks.EarlyStopping(\n",
        "    monitor=\"val_loss\", patience=early_stopping_patience, restore_best_weights=True\n",
        ")\n",
        "\n",
        "history = model.fit(train_dataset,\n",
        "                    validation_data = validation_dataset,\n",
        "                    batch_size=batch_size,\n",
        "                    epochs=epochs,\n",
        "                    callbacks=[early_stopping])"
      ],
      "execution_count": null,
      "outputs": [
        {
          "output_type": "stream",
          "text": [
            "Epoch 1/100\n",
            "391/391 [==============================] - 120s 209ms/step - loss: 33.5404 - val_loss: 25.7112\n",
            "Epoch 2/100\n",
            "391/391 [==============================] - 77s 195ms/step - loss: 21.1120 - val_loss: 27.1297\n",
            "Epoch 3/100\n",
            "391/391 [==============================] - 76s 195ms/step - loss: 20.3901 - val_loss: 30.6220\n",
            "Epoch 4/100\n",
            "391/391 [==============================] - 76s 193ms/step - loss: 19.5157 - val_loss: 18.3746\n",
            "Epoch 5/100\n",
            "391/391 [==============================] - 76s 194ms/step - loss: 18.2770 - val_loss: 16.9787\n",
            "Epoch 6/100\n",
            "391/391 [==============================] - 76s 195ms/step - loss: 16.8295 - val_loss: 15.1893\n",
            "Epoch 7/100\n",
            "391/391 [==============================] - 76s 194ms/step - loss: 15.0057 - val_loss: 12.5708\n",
            "Epoch 8/100\n",
            "391/391 [==============================] - 76s 195ms/step - loss: 16.1587 - val_loss: 12.0076\n",
            "Epoch 9/100\n",
            "391/391 [==============================] - 76s 194ms/step - loss: 12.9094 - val_loss: 10.7662\n",
            "Epoch 10/100\n",
            "391/391 [==============================] - 76s 194ms/step - loss: 11.7212 - val_loss: 10.4509\n",
            "Epoch 11/100\n",
            "391/391 [==============================] - 75s 193ms/step - loss: 10.7606 - val_loss: 9.0931\n",
            "Epoch 12/100\n",
            "391/391 [==============================] - 75s 191ms/step - loss: 9.8865 - val_loss: 8.5284\n",
            "Epoch 13/100\n",
            "391/391 [==============================] - 75s 192ms/step - loss: 9.4846 - val_loss: 7.9380\n",
            "Epoch 14/100\n",
            "391/391 [==============================] - 76s 194ms/step - loss: 8.7973 - val_loss: 7.4545\n",
            "Epoch 15/100\n",
            "391/391 [==============================] - 75s 191ms/step - loss: 8.3280 - val_loss: 7.1811\n",
            "Epoch 16/100\n",
            "391/391 [==============================] - 74s 189ms/step - loss: 7.9097 - val_loss: 6.7671\n",
            "Epoch 17/100\n",
            "391/391 [==============================] - 74s 188ms/step - loss: 7.5254 - val_loss: 6.3066\n",
            "Epoch 18/100\n",
            "391/391 [==============================] - 74s 189ms/step - loss: 7.1540 - val_loss: 6.0245\n",
            "Epoch 19/100\n",
            "391/391 [==============================] - 74s 189ms/step - loss: 6.8359 - val_loss: 5.8312\n",
            "Epoch 20/100\n",
            "391/391 [==============================] - 74s 188ms/step - loss: 6.5001 - val_loss: 5.5390\n",
            "Epoch 21/100\n",
            "391/391 [==============================] - 73s 187ms/step - loss: 6.2261 - val_loss: 5.1654\n",
            "Epoch 22/100\n",
            "391/391 [==============================] - 74s 189ms/step - loss: 5.9341 - val_loss: 5.0519\n",
            "Epoch 23/100\n",
            "391/391 [==============================] - 73s 188ms/step - loss: 5.7078 - val_loss: 4.9668\n",
            "Epoch 24/100\n",
            "391/391 [==============================] - 74s 188ms/step - loss: 5.4890 - val_loss: 4.6406\n",
            "Epoch 25/100\n",
            "391/391 [==============================] - 73s 187ms/step - loss: 5.3830 - val_loss: 4.4267\n",
            "Epoch 26/100\n",
            "391/391 [==============================] - 74s 189ms/step - loss: 5.1334 - val_loss: 4.3004\n",
            "Epoch 27/100\n",
            "391/391 [==============================] - 73s 187ms/step - loss: 4.9693 - val_loss: 4.3398\n",
            "Epoch 28/100\n",
            "391/391 [==============================] - 73s 188ms/step - loss: 4.9130 - val_loss: 3.9744\n",
            "Epoch 29/100\n",
            "391/391 [==============================] - 73s 187ms/step - loss: 4.6998 - val_loss: 3.9785\n",
            "Epoch 30/100\n",
            "391/391 [==============================] - 73s 187ms/step - loss: 4.6111 - val_loss: 4.0469\n",
            "Epoch 31/100\n",
            "391/391 [==============================] - 73s 188ms/step - loss: 4.6772 - val_loss: 3.9642\n",
            "Epoch 32/100\n",
            "391/391 [==============================] - 73s 186ms/step - loss: 4.6898 - val_loss: 3.9110\n",
            "Epoch 33/100\n",
            "391/391 [==============================] - 73s 186ms/step - loss: 4.5205 - val_loss: 3.8742\n",
            "Epoch 34/100\n",
            "391/391 [==============================] - 73s 187ms/step - loss: 4.4081 - val_loss: 3.6756\n",
            "Epoch 35/100\n",
            "391/391 [==============================] - 73s 187ms/step - loss: 4.2580 - val_loss: 3.6197\n",
            "Epoch 36/100\n",
            "391/391 [==============================] - 74s 188ms/step - loss: 4.2600 - val_loss: 3.6622\n",
            "Epoch 37/100\n",
            "391/391 [==============================] - 74s 190ms/step - loss: 4.1958 - val_loss: 3.6479\n",
            "Epoch 38/100\n",
            "391/391 [==============================] - 73s 187ms/step - loss: 4.2039 - val_loss: 3.4350\n",
            "Epoch 39/100\n",
            "391/391 [==============================] - 74s 188ms/step - loss: 3.9896 - val_loss: 3.4820\n",
            "Epoch 40/100\n",
            "391/391 [==============================] - 73s 188ms/step - loss: 3.9331 - val_loss: 3.4668\n",
            "Epoch 41/100\n",
            "391/391 [==============================] - 73s 188ms/step - loss: 3.9011 - val_loss: 3.5340\n",
            "Epoch 42/100\n",
            "391/391 [==============================] - 74s 189ms/step - loss: 3.8550 - val_loss: 3.3802\n",
            "Epoch 43/100\n",
            "391/391 [==============================] - 74s 189ms/step - loss: 3.9028 - val_loss: 3.4125\n",
            "Epoch 44/100\n",
            "391/391 [==============================] - 74s 189ms/step - loss: 3.8710 - val_loss: 3.3920\n",
            "Epoch 45/100\n",
            "391/391 [==============================] - 73s 188ms/step - loss: 3.8902 - val_loss: 3.5978\n",
            "Epoch 46/100\n",
            "391/391 [==============================] - 73s 187ms/step - loss: 3.7957 - val_loss: 3.3079\n",
            "Epoch 47/100\n",
            "391/391 [==============================] - 73s 187ms/step - loss: 3.7345 - val_loss: 3.7513\n",
            "Epoch 48/100\n",
            "391/391 [==============================] - 73s 187ms/step - loss: 4.6278 - val_loss: 3.4533\n",
            "Epoch 49/100\n",
            "391/391 [==============================] - 73s 188ms/step - loss: 3.7791 - val_loss: 3.2553\n",
            "Epoch 50/100\n",
            "391/391 [==============================] - 73s 187ms/step - loss: 3.6188 - val_loss: 3.2209\n",
            "Epoch 51/100\n",
            "391/391 [==============================] - 73s 187ms/step - loss: 3.6453 - val_loss: 3.1819\n",
            "Epoch 52/100\n",
            "391/391 [==============================] - 73s 187ms/step - loss: 3.5974 - val_loss: 3.2415\n",
            "Epoch 53/100\n",
            "391/391 [==============================] - 73s 187ms/step - loss: 3.5418 - val_loss: 3.1102\n",
            "Epoch 54/100\n",
            "391/391 [==============================] - 73s 186ms/step - loss: 3.5033 - val_loss: 3.0630\n",
            "Epoch 55/100\n",
            "391/391 [==============================] - 73s 187ms/step - loss: 3.3855 - val_loss: 3.1559\n",
            "Epoch 56/100\n",
            "391/391 [==============================] - 73s 187ms/step - loss: 3.4067 - val_loss: 3.0576\n",
            "Epoch 57/100\n",
            "391/391 [==============================] - 73s 186ms/step - loss: 3.4818 - val_loss: 3.0333\n",
            "Epoch 58/100\n",
            "391/391 [==============================] - 73s 187ms/step - loss: 3.4147 - val_loss: 3.0823\n",
            "Epoch 59/100\n",
            "391/391 [==============================] - 74s 188ms/step - loss: 3.2682 - val_loss: 2.9714\n",
            "Epoch 60/100\n",
            "391/391 [==============================] - 74s 188ms/step - loss: 3.2703 - val_loss: 3.0399\n",
            "Epoch 61/100\n",
            "391/391 [==============================] - 73s 187ms/step - loss: 3.2273 - val_loss: 3.0068\n",
            "Epoch 62/100\n",
            "391/391 [==============================] - 73s 187ms/step - loss: 3.1950 - val_loss: 3.0905\n",
            "Epoch 63/100\n",
            "391/391 [==============================] - 73s 186ms/step - loss: 3.2011 - val_loss: 2.9722\n",
            "Epoch 64/100\n",
            "391/391 [==============================] - 73s 187ms/step - loss: 3.2436 - val_loss: 2.9513\n",
            "Epoch 65/100\n",
            "391/391 [==============================] - 73s 185ms/step - loss: 3.2932 - val_loss: 2.8607\n",
            "Epoch 66/100\n",
            "391/391 [==============================] - 73s 187ms/step - loss: 3.1772 - val_loss: 2.8726\n",
            "Epoch 67/100\n",
            "391/391 [==============================] - 73s 187ms/step - loss: 3.0230 - val_loss: 3.0331\n",
            "Epoch 68/100\n",
            "391/391 [==============================] - 73s 188ms/step - loss: 3.2558 - val_loss: 3.0699\n",
            "Epoch 69/100\n",
            "391/391 [==============================] - 73s 187ms/step - loss: 3.2210 - val_loss: 2.8989\n",
            "Epoch 70/100\n",
            "391/391 [==============================] - 73s 188ms/step - loss: 3.1083 - val_loss: 2.8270\n",
            "Epoch 71/100\n",
            "391/391 [==============================] - 74s 188ms/step - loss: 3.0485 - val_loss: 2.9267\n",
            "Epoch 72/100\n",
            "391/391 [==============================] - 74s 188ms/step - loss: 3.0490 - val_loss: 2.8108\n",
            "Epoch 73/100\n",
            "391/391 [==============================] - 73s 187ms/step - loss: 2.9642 - val_loss: 2.8106\n",
            "Epoch 74/100\n",
            "391/391 [==============================] - 73s 187ms/step - loss: 2.9418 - val_loss: 2.7747\n",
            "Epoch 75/100\n",
            "391/391 [==============================] - 74s 189ms/step - loss: 2.9098 - val_loss: 2.7863\n",
            "Epoch 76/100\n",
            "391/391 [==============================] - 74s 188ms/step - loss: 2.9882 - val_loss: 2.7632\n",
            "Epoch 77/100\n",
            "391/391 [==============================] - 74s 188ms/step - loss: 3.1892 - val_loss: 2.8287\n",
            "Epoch 78/100\n",
            "391/391 [==============================] - 73s 188ms/step - loss: 2.9166 - val_loss: 2.7316\n",
            "Epoch 79/100\n",
            "391/391 [==============================] - 74s 188ms/step - loss: 2.7875 - val_loss: 2.7606\n",
            "Epoch 80/100\n",
            "391/391 [==============================] - 74s 188ms/step - loss: 2.7249 - val_loss: 2.7719\n",
            "Epoch 81/100\n",
            "391/391 [==============================] - 74s 188ms/step - loss: 2.7396 - val_loss: 2.7080\n",
            "Epoch 82/100\n",
            "391/391 [==============================] - 73s 188ms/step - loss: 2.6961 - val_loss: 2.7324\n",
            "Epoch 83/100\n",
            "391/391 [==============================] - 73s 187ms/step - loss: 2.7125 - val_loss: 2.8524\n",
            "Epoch 84/100\n",
            "391/391 [==============================] - 73s 188ms/step - loss: 2.7201 - val_loss: 2.6928\n",
            "Epoch 85/100\n",
            "391/391 [==============================] - 73s 188ms/step - loss: 2.6356 - val_loss: 2.7018\n",
            "Epoch 86/100\n",
            "391/391 [==============================] - 73s 186ms/step - loss: 2.7256 - val_loss: 2.7273\n",
            "Epoch 87/100\n",
            "391/391 [==============================] - 73s 186ms/step - loss: 2.7152 - val_loss: 2.6541\n",
            "Epoch 88/100\n",
            "391/391 [==============================] - 73s 187ms/step - loss: 2.5782 - val_loss: 2.6946\n",
            "Epoch 89/100\n",
            "391/391 [==============================] - 73s 187ms/step - loss: 3.0435 - val_loss: 2.7546\n",
            "Epoch 90/100\n",
            "391/391 [==============================] - 73s 185ms/step - loss: 3.0106 - val_loss: 2.7790\n",
            "Epoch 91/100\n",
            "391/391 [==============================] - 72s 185ms/step - loss: 2.8241 - val_loss: 2.8805\n",
            "Epoch 92/100\n",
            "391/391 [==============================] - 73s 186ms/step - loss: 2.8718 - val_loss: 2.6841\n",
            "Epoch 93/100\n",
            "391/391 [==============================] - 73s 185ms/step - loss: 2.6663 - val_loss: 2.9102\n",
            "Epoch 94/100\n",
            "391/391 [==============================] - 73s 186ms/step - loss: 2.8215 - val_loss: 2.9271\n",
            "Epoch 95/100\n",
            "391/391 [==============================] - 73s 186ms/step - loss: 2.8351 - val_loss: 2.8102\n",
            "Epoch 96/100\n",
            "391/391 [==============================] - 73s 186ms/step - loss: 2.6702 - val_loss: 2.6729\n",
            "Epoch 97/100\n",
            "391/391 [==============================] - 73s 187ms/step - loss: 2.7823 - val_loss: 2.7289\n"
          ],
          "name": "stdout"
        }
      ]
    },
    {
      "cell_type": "code",
      "metadata": {
        "colab": {
          "base_uri": "https://localhost:8080/"
        },
        "id": "9OGVd-ShUQZ8",
        "outputId": "baf3d009-a10d-450f-d9cc-2b3488149d26"
      },
      "source": [
        "model.save('/content/gdrive/MyDrive/Handwriten_Recognitin/model2')"
      ],
      "execution_count": null,
      "outputs": [
        {
          "output_type": "stream",
          "text": [
            "WARNING:absl:Found untraced functions such as lstm_cell_1_layer_call_fn, lstm_cell_1_layer_call_and_return_conditional_losses, lstm_cell_2_layer_call_fn, lstm_cell_2_layer_call_and_return_conditional_losses, lstm_cell_4_layer_call_fn while saving (showing 5 of 20). These functions will not be directly callable after loading.\n",
            "WARNING:absl:Found untraced functions such as lstm_cell_1_layer_call_fn, lstm_cell_1_layer_call_and_return_conditional_losses, lstm_cell_2_layer_call_fn, lstm_cell_2_layer_call_and_return_conditional_losses, lstm_cell_4_layer_call_fn while saving (showing 5 of 20). These functions will not be directly callable after loading.\n"
          ],
          "name": "stderr"
        },
        {
          "output_type": "stream",
          "text": [
            "INFO:tensorflow:Assets written to: /content/gdrive/MyDrive/Handwriten_Recognitin/model2/assets\n"
          ],
          "name": "stdout"
        },
        {
          "output_type": "stream",
          "text": [
            "INFO:tensorflow:Assets written to: /content/gdrive/MyDrive/Handwriten_Recognitin/model2/assets\n"
          ],
          "name": "stderr"
        }
      ]
    },
    {
      "cell_type": "code",
      "metadata": {
        "colab": {
          "base_uri": "https://localhost:8080/"
        },
        "id": "K92EMYtCnfh2",
        "outputId": "c726a7a9-ea70-4d62-a737-59d9d9acc128"
      },
      "source": [
        "prediction_model = keras.models.Model(\n",
        "    model.get_layer('image').input, model.get_layer('dense2').output\n",
        ")\n",
        "prediction_model.summary()"
      ],
      "execution_count": null,
      "outputs": [
        {
          "output_type": "stream",
          "text": [
            "Model: \"model\"\n",
            "_________________________________________________________________\n",
            "Layer (type)                 Output Shape              Param #   \n",
            "=================================================================\n",
            "image (InputLayer)           [(None, 256, 64, 1)]      0         \n",
            "_________________________________________________________________\n",
            "Conv1 (Conv2D)               (None, 256, 64, 64)       640       \n",
            "_________________________________________________________________\n",
            "pool1 (MaxPooling2D)         (None, 128, 32, 64)       0         \n",
            "_________________________________________________________________\n",
            "dropout (Dropout)            (None, 128, 32, 64)       0         \n",
            "_________________________________________________________________\n",
            "Conv2 (Conv2D)               (None, 128, 32, 128)      73856     \n",
            "_________________________________________________________________\n",
            "pool2 (MaxPooling2D)         (None, 64, 16, 128)       0         \n",
            "_________________________________________________________________\n",
            "dropout_1 (Dropout)          (None, 64, 16, 128)       0         \n",
            "_________________________________________________________________\n",
            "reshape (Reshape)            (None, 64, 2048)          0         \n",
            "_________________________________________________________________\n",
            "dense1 (Dense)               (None, 64, 64)            131136    \n",
            "_________________________________________________________________\n",
            "dropout_2 (Dropout)          (None, 64, 64)            0         \n",
            "_________________________________________________________________\n",
            "bidirectional (Bidirectional (None, 64, 256)           197632    \n",
            "_________________________________________________________________\n",
            "bidirectional_1 (Bidirection (None, 64, 128)           164352    \n",
            "_________________________________________________________________\n",
            "dense2 (Dense)               (None, 64, 31)            3999      \n",
            "=================================================================\n",
            "Total params: 571,615\n",
            "Trainable params: 571,615\n",
            "Non-trainable params: 0\n",
            "_________________________________________________________________\n"
          ],
          "name": "stdout"
        }
      ]
    },
    {
      "cell_type": "code",
      "metadata": {
        "colab": {
          "base_uri": "https://localhost:8080/"
        },
        "id": "YAVCFIQyl8yg",
        "outputId": "18265137-8b6e-4470-a323-ec2e2a406585"
      },
      "source": [
        "prediction_model.save('/content/gdrive/MyDrive/Handwriten_Recognition/predtion_model_2')"
      ],
      "execution_count": null,
      "outputs": [
        {
          "output_type": "stream",
          "text": [
            "WARNING:absl:Found untraced functions such as lstm_cell_1_layer_call_fn, lstm_cell_1_layer_call_and_return_conditional_losses, lstm_cell_2_layer_call_fn, lstm_cell_2_layer_call_and_return_conditional_losses, lstm_cell_4_layer_call_fn while saving (showing 5 of 20). These functions will not be directly callable after loading.\n",
            "WARNING:absl:Found untraced functions such as lstm_cell_1_layer_call_fn, lstm_cell_1_layer_call_and_return_conditional_losses, lstm_cell_2_layer_call_fn, lstm_cell_2_layer_call_and_return_conditional_losses, lstm_cell_4_layer_call_fn while saving (showing 5 of 20). These functions will not be directly callable after loading.\n"
          ],
          "name": "stderr"
        },
        {
          "output_type": "stream",
          "text": [
            "INFO:tensorflow:Assets written to: /content/gdrive/MyDrive/Handwriten_Recognition/predtion_model_2/assets\n"
          ],
          "name": "stdout"
        },
        {
          "output_type": "stream",
          "text": [
            "INFO:tensorflow:Assets written to: /content/gdrive/MyDrive/Handwriten_Recognition/predtion_model_2/assets\n"
          ],
          "name": "stderr"
        }
      ]
    },
    {
      "cell_type": "code",
      "metadata": {
        "id": "fh4nWHD5mg1_"
      },
      "source": [
        "pred_model = keras.models.load_model('/content/gdrive/MyDrive/Handwriten_Recognition/predtion_model_2',compile = False)"
      ],
      "execution_count": 19,
      "outputs": []
    },
    {
      "cell_type": "code",
      "metadata": {
        "colab": {
          "background_save": true
        },
        "id": "gM_InhgDpfxv",
        "outputId": "2fdce215-8d21-4b93-d432-456ba5824643"
      },
      "source": [
        "pred_model.summary()"
      ],
      "execution_count": null,
      "outputs": [
        {
          "output_type": "stream",
          "text": [
            "Model: \"model\"\n",
            "_________________________________________________________________\n",
            "Layer (type)                 Output Shape              Param #   \n",
            "=================================================================\n",
            "image (InputLayer)           [(None, 256, 64, 1)]      0         \n",
            "_________________________________________________________________\n",
            "Conv1 (Conv2D)               (None, 256, 64, 64)       640       \n",
            "_________________________________________________________________\n",
            "pool1 (MaxPooling2D)         (None, 128, 32, 64)       0         \n",
            "_________________________________________________________________\n",
            "dropout (Dropout)            (None, 128, 32, 64)       0         \n",
            "_________________________________________________________________\n",
            "Conv2 (Conv2D)               (None, 128, 32, 128)      73856     \n",
            "_________________________________________________________________\n",
            "pool2 (MaxPooling2D)         (None, 64, 16, 128)       0         \n",
            "_________________________________________________________________\n",
            "dropout_1 (Dropout)          (None, 64, 16, 128)       0         \n",
            "_________________________________________________________________\n",
            "reshape (Reshape)            (None, 64, 2048)          0         \n",
            "_________________________________________________________________\n",
            "dense1 (Dense)               (None, 64, 64)            131136    \n",
            "_________________________________________________________________\n",
            "dropout_2 (Dropout)          (None, 64, 64)            0         \n",
            "_________________________________________________________________\n",
            "bidirectional (Bidirectional (None, 64, 256)           197632    \n",
            "_________________________________________________________________\n",
            "bidirectional_1 (Bidirection (None, 64, 128)           164352    \n",
            "_________________________________________________________________\n",
            "dense2 (Dense)               (None, 64, 31)            3999      \n",
            "=================================================================\n",
            "Total params: 571,615\n",
            "Trainable params: 571,615\n",
            "Non-trainable params: 0\n",
            "_________________________________________________________________\n"
          ],
          "name": "stdout"
        }
      ]
    },
    {
      "cell_type": "code",
      "metadata": {
        "id": "qR9F5ODvtD5A"
      },
      "source": [
        "def decode_batch_prediction(pred):\n",
        "  input_len = np.ones(pred.shape[0]) * pred.shape[1]\n",
        "  \n",
        "  results = keras.backend.ctc_decode(pred,input_length=input_len,greedy=True)[0][0][:,:max_length]\n",
        "  output_text = []\n",
        "\n",
        "  for res in results:\n",
        "    res = tf.strings.reduce_join(num_to_char(res)).numpy().decode('UTF-8')\n",
        "    res = res.split('#')[0]\n",
        "    output_text.append(res)\n",
        "  return output_text"
      ],
      "execution_count": 12,
      "outputs": []
    },
    {
      "cell_type": "markdown",
      "metadata": {
        "id": "fNPMaN-T9Orv"
      },
      "source": [
        "# Testing Model"
      ]
    },
    {
      "cell_type": "code",
      "metadata": {
        "id": "PtSrC5Fz3_IX"
      },
      "source": [
        "test = pd.read_csv('/content/written_name_test_v2.csv')\n",
        "test.sort_values(by='FILENAME', inplace=True)\n",
        "\n",
        "data_dir_test = Path('./test_v2/test/')\n",
        "test['IMAGE'] = sorted(list(map(str,list(data_dir_test.glob('*.jpg')))))\n",
        "test = test[:5000]"
      ],
      "execution_count": 13,
      "outputs": []
    },
    {
      "cell_type": "code",
      "metadata": {
        "id": "xJ-OV2P21cKb"
      },
      "source": [
        "test.dropna(axis=0,inplace=True)\n",
        "\n",
        "test = test[test['IDENTITY'] != 'UNREADABLE']\n",
        "test.reset_index(drop=True,inplace=True)\n",
        "test['LENGTH'] = test['IDENTITY'].apply(lambda x: len(str(x)))\n",
        "test = test[test['LENGTH'] <=21]\n",
        "images_test = test['IMAGE'].values\n",
        "labels_test = []\n",
        "for i in test['IDENTITY']:\n",
        "  if len(i)<21:\n",
        "    i+='#'*(21-len(i))\n",
        "  labels_test.append(i)"
      ],
      "execution_count": 14,
      "outputs": []
    },
    {
      "cell_type": "code",
      "metadata": {
        "colab": {
          "base_uri": "https://localhost:8080/",
          "height": 419
        },
        "id": "8DT35aIBH6nO",
        "outputId": "1e4cc3f8-94a7-4aa9-f5f8-53bde8fead9b"
      },
      "source": [
        "test"
      ],
      "execution_count": 15,
      "outputs": [
        {
          "output_type": "execute_result",
          "data": {
            "text/html": [
              "<div>\n",
              "<style scoped>\n",
              "    .dataframe tbody tr th:only-of-type {\n",
              "        vertical-align: middle;\n",
              "    }\n",
              "\n",
              "    .dataframe tbody tr th {\n",
              "        vertical-align: top;\n",
              "    }\n",
              "\n",
              "    .dataframe thead th {\n",
              "        text-align: right;\n",
              "    }\n",
              "</style>\n",
              "<table border=\"1\" class=\"dataframe\">\n",
              "  <thead>\n",
              "    <tr style=\"text-align: right;\">\n",
              "      <th></th>\n",
              "      <th>FILENAME</th>\n",
              "      <th>IDENTITY</th>\n",
              "      <th>IMAGE</th>\n",
              "      <th>LENGTH</th>\n",
              "    </tr>\n",
              "  </thead>\n",
              "  <tbody>\n",
              "    <tr>\n",
              "      <th>0</th>\n",
              "      <td>TEST_0001.jpg</td>\n",
              "      <td>KEVIN</td>\n",
              "      <td>test_v2/test/TEST_0001.jpg</td>\n",
              "      <td>5</td>\n",
              "    </tr>\n",
              "    <tr>\n",
              "      <th>1</th>\n",
              "      <td>TEST_0002.jpg</td>\n",
              "      <td>CLOTAIRE</td>\n",
              "      <td>test_v2/test/TEST_0002.jpg</td>\n",
              "      <td>8</td>\n",
              "    </tr>\n",
              "    <tr>\n",
              "      <th>2</th>\n",
              "      <td>TEST_0003.jpg</td>\n",
              "      <td>LENA</td>\n",
              "      <td>test_v2/test/TEST_0003.jpg</td>\n",
              "      <td>4</td>\n",
              "    </tr>\n",
              "    <tr>\n",
              "      <th>3</th>\n",
              "      <td>TEST_0004.jpg</td>\n",
              "      <td>JULES</td>\n",
              "      <td>test_v2/test/TEST_0004.jpg</td>\n",
              "      <td>5</td>\n",
              "    </tr>\n",
              "    <tr>\n",
              "      <th>4</th>\n",
              "      <td>TEST_0005.jpg</td>\n",
              "      <td>CHERPIN</td>\n",
              "      <td>test_v2/test/TEST_0005.jpg</td>\n",
              "      <td>7</td>\n",
              "    </tr>\n",
              "    <tr>\n",
              "      <th>...</th>\n",
              "      <td>...</td>\n",
              "      <td>...</td>\n",
              "      <td>...</td>\n",
              "      <td>...</td>\n",
              "    </tr>\n",
              "    <tr>\n",
              "      <th>4984</th>\n",
              "      <td>TEST_13632.jpg</td>\n",
              "      <td>ANTOINE</td>\n",
              "      <td>test_v2/test/TEST_13632.jpg</td>\n",
              "      <td>7</td>\n",
              "    </tr>\n",
              "    <tr>\n",
              "      <th>4985</th>\n",
              "      <td>TEST_13633.jpg</td>\n",
              "      <td>MARGAUX</td>\n",
              "      <td>test_v2/test/TEST_13633.jpg</td>\n",
              "      <td>7</td>\n",
              "    </tr>\n",
              "    <tr>\n",
              "      <th>4986</th>\n",
              "      <td>TEST_13634.jpg</td>\n",
              "      <td>BELKAID</td>\n",
              "      <td>test_v2/test/TEST_13634.jpg</td>\n",
              "      <td>7</td>\n",
              "    </tr>\n",
              "    <tr>\n",
              "      <th>4987</th>\n",
              "      <td>TEST_13635.jpg</td>\n",
              "      <td>FOLLANA</td>\n",
              "      <td>test_v2/test/TEST_13635.jpg</td>\n",
              "      <td>7</td>\n",
              "    </tr>\n",
              "    <tr>\n",
              "      <th>4988</th>\n",
              "      <td>TEST_13636.jpg</td>\n",
              "      <td>VERNEUIL</td>\n",
              "      <td>test_v2/test/TEST_13636.jpg</td>\n",
              "      <td>8</td>\n",
              "    </tr>\n",
              "  </tbody>\n",
              "</table>\n",
              "<p>4989 rows × 4 columns</p>\n",
              "</div>"
            ],
            "text/plain": [
              "            FILENAME  IDENTITY                        IMAGE  LENGTH\n",
              "0      TEST_0001.jpg     KEVIN   test_v2/test/TEST_0001.jpg       5\n",
              "1      TEST_0002.jpg  CLOTAIRE   test_v2/test/TEST_0002.jpg       8\n",
              "2      TEST_0003.jpg      LENA   test_v2/test/TEST_0003.jpg       4\n",
              "3      TEST_0004.jpg     JULES   test_v2/test/TEST_0004.jpg       5\n",
              "4      TEST_0005.jpg   CHERPIN   test_v2/test/TEST_0005.jpg       7\n",
              "...              ...       ...                          ...     ...\n",
              "4984  TEST_13632.jpg   ANTOINE  test_v2/test/TEST_13632.jpg       7\n",
              "4985  TEST_13633.jpg   MARGAUX  test_v2/test/TEST_13633.jpg       7\n",
              "4986  TEST_13634.jpg   BELKAID  test_v2/test/TEST_13634.jpg       7\n",
              "4987  TEST_13635.jpg   FOLLANA  test_v2/test/TEST_13635.jpg       7\n",
              "4988  TEST_13636.jpg  VERNEUIL  test_v2/test/TEST_13636.jpg       8\n",
              "\n",
              "[4989 rows x 4 columns]"
            ]
          },
          "metadata": {
            "tags": []
          },
          "execution_count": 15
        }
      ]
    },
    {
      "cell_type": "code",
      "metadata": {
        "id": "qMuQNyBC3x2M"
      },
      "source": [
        "test_dataset = tf.data.Dataset.from_tensor_slices((images_test, labels_test))\n",
        "test_dataset = (\n",
        "    test_dataset.map(\n",
        "        encode_single_sample, num_parallel_calls=tf.data.experimental.AUTOTUNE\n",
        "    ).batch(batch_size)\n",
        "    .prefetch(buffer_size=tf.data.experimental.AUTOTUNE))"
      ],
      "execution_count": 16,
      "outputs": []
    },
    {
      "cell_type": "code",
      "metadata": {
        "id": "fcuLNOD661Tk"
      },
      "source": [
        "pred_label = []\n",
        "true_label = []\n",
        "for sample in test_dataset:\n",
        "  imgs = sample['image'] \n",
        "  lbls = sample['label']\n",
        "  \n",
        "  pred = pred_model.predict(imgs)\n",
        "  pred = decode_batch_prediction(pred)\n",
        "  pred_label.extend(pred)\n",
        "  \n",
        "  for label in lbls:\n",
        "    label = tf.strings.reduce_join(num_to_char(label)).numpy().decode('utf-8')\n",
        "    label = label.split('#')[0]\n",
        "    true_label.append(label)\n",
        "    #print(label)"
      ],
      "execution_count": 20,
      "outputs": []
    },
    {
      "cell_type": "code",
      "metadata": {
        "id": "FgJNIzHHnwy1"
      },
      "source": [
        "df = pd.DataFrame({'True_Label':true_label,'Pred_label':pred_label })"
      ],
      "execution_count": 21,
      "outputs": []
    },
    {
      "cell_type": "code",
      "metadata": {
        "colab": {
          "base_uri": "https://localhost:8080/",
          "height": 419
        },
        "id": "So7y9g9_oM2V",
        "outputId": "26e8b0fb-45a9-4875-c38d-49041eb4d303"
      },
      "source": [
        "df"
      ],
      "execution_count": 22,
      "outputs": [
        {
          "output_type": "execute_result",
          "data": {
            "text/html": [
              "<div>\n",
              "<style scoped>\n",
              "    .dataframe tbody tr th:only-of-type {\n",
              "        vertical-align: middle;\n",
              "    }\n",
              "\n",
              "    .dataframe tbody tr th {\n",
              "        vertical-align: top;\n",
              "    }\n",
              "\n",
              "    .dataframe thead th {\n",
              "        text-align: right;\n",
              "    }\n",
              "</style>\n",
              "<table border=\"1\" class=\"dataframe\">\n",
              "  <thead>\n",
              "    <tr style=\"text-align: right;\">\n",
              "      <th></th>\n",
              "      <th>True_Label</th>\n",
              "      <th>Pred_label</th>\n",
              "    </tr>\n",
              "  </thead>\n",
              "  <tbody>\n",
              "    <tr>\n",
              "      <th>0</th>\n",
              "      <td>KEVIN</td>\n",
              "      <td>KEVIN</td>\n",
              "    </tr>\n",
              "    <tr>\n",
              "      <th>1</th>\n",
              "      <td>CLOTAIRE</td>\n",
              "      <td>CEOT</td>\n",
              "    </tr>\n",
              "    <tr>\n",
              "      <th>2</th>\n",
              "      <td>LENA</td>\n",
              "      <td>LENA</td>\n",
              "    </tr>\n",
              "    <tr>\n",
              "      <th>3</th>\n",
              "      <td>JULES</td>\n",
              "      <td>JULES</td>\n",
              "    </tr>\n",
              "    <tr>\n",
              "      <th>4</th>\n",
              "      <td>CHERPIN</td>\n",
              "      <td>CHERPIN</td>\n",
              "    </tr>\n",
              "    <tr>\n",
              "      <th>...</th>\n",
              "      <td>...</td>\n",
              "      <td>...</td>\n",
              "    </tr>\n",
              "    <tr>\n",
              "      <th>4984</th>\n",
              "      <td>ANTOINE</td>\n",
              "      <td>ANTOINE</td>\n",
              "    </tr>\n",
              "    <tr>\n",
              "      <th>4985</th>\n",
              "      <td>MARGAUX</td>\n",
              "      <td>MARGAUX</td>\n",
              "    </tr>\n",
              "    <tr>\n",
              "      <th>4986</th>\n",
              "      <td>BELKAID</td>\n",
              "      <td>BELKAID</td>\n",
              "    </tr>\n",
              "    <tr>\n",
              "      <th>4987</th>\n",
              "      <td>FOLLANA</td>\n",
              "      <td>FOLLANA</td>\n",
              "    </tr>\n",
              "    <tr>\n",
              "      <th>4988</th>\n",
              "      <td>VERNEUIL</td>\n",
              "      <td>VERNEVIL</td>\n",
              "    </tr>\n",
              "  </tbody>\n",
              "</table>\n",
              "<p>4989 rows × 2 columns</p>\n",
              "</div>"
            ],
            "text/plain": [
              "     True_Label Pred_label\n",
              "0         KEVIN      KEVIN\n",
              "1      CLOTAIRE       CEOT\n",
              "2          LENA       LENA\n",
              "3         JULES      JULES\n",
              "4       CHERPIN    CHERPIN\n",
              "...         ...        ...\n",
              "4984    ANTOINE    ANTOINE\n",
              "4985    MARGAUX    MARGAUX\n",
              "4986    BELKAID    BELKAID\n",
              "4987    FOLLANA    FOLLANA\n",
              "4988   VERNEUIL   VERNEVIL\n",
              "\n",
              "[4989 rows x 2 columns]"
            ]
          },
          "metadata": {
            "tags": []
          },
          "execution_count": 22
        }
      ]
    },
    {
      "cell_type": "code",
      "metadata": {
        "colab": {
          "base_uri": "https://localhost:8080/",
          "height": 518
        },
        "id": "jKA-avDYHFSM",
        "outputId": "0431433d-3884-4cdc-f2ae-0e38aaa90c31"
      },
      "source": [
        "_, ax = plt.subplots(4, 4, figsize=(15, 10))\n",
        "for batch in test_dataset.take(1):\n",
        "    images = batch[\"image\"]\n",
        "    labels = pred_label[:batch_size]\n",
        "    for i in range(16):\n",
        "        img = (images[i] * 255).numpy().astype(\"uint8\")\n",
        "        #label = tf.strings.reduce_join(num_to_char(labels[i])).numpy().decode(\"utf-8\")\n",
        "        ax[i // 4, i % 4].imshow(img[:, :, 0].T, cmap=\"gray\")\n",
        "        ax[i // 4, i % 4].set_title(labels[i])\n",
        "        ax[i // 4, i % 4].axis(\"off\")\n",
        "plt.show()"
      ],
      "execution_count": 23,
      "outputs": [
        {
          "output_type": "display_data",
          "data": {
            "image/png": "[encoded data removed]",
            "text/plain": [
              "<Figure size 1080x720 with 16 Axes>"
            ]
          },
          "metadata": {
            "tags": [],
            "needs_background": "light"
          }
        }
      ]
    }
  ]
}